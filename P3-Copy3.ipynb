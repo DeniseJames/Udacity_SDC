{
 "cells": [
  {
   "cell_type": "code",
   "execution_count": 1,
   "metadata": {
    "collapsed": false
   },
   "outputs": [
    {
     "name": "stderr",
     "output_type": "stream",
     "text": [
      "Using TensorFlow backend.\n"
     ]
    }
   ],
   "source": [
    "#importing some useful packages\n",
    "\n",
    "import matplotlib.pyplot as plt\n",
    "import matplotlib.image as mpimg\n",
    "import numpy as np\n",
    "import cv2\n",
    "%matplotlib inline\n",
    "from PIL import Image\n",
    "import keras\n",
    "import math\n",
    "import random\n",
    "from sklearn.model_selection import train_test_split\n",
    "from keras.optimizers import SGD, Adam, RMSprop\n"
   ]
  },
  {
   "cell_type": "code",
   "execution_count": 2,
   "metadata": {
    "collapsed": false
   },
   "outputs": [
    {
     "data": {
      "text/plain": [
       "27007"
      ]
     },
     "execution_count": 2,
     "metadata": {},
     "output_type": "execute_result"
    }
   ],
   "source": [
    "import pandas as pd\n",
    "data = pd.read_csv('driving_log.csv', header = None)\n",
    "data.columns = [\"center_images\",\"left_images\",\"right_images\",\"steering\",\"brake\",\"throttle\",\"speed\"]\n",
    "len(data)"
   ]
  },
  {
   "cell_type": "code",
   "execution_count": 3,
   "metadata": {
    "collapsed": false
   },
   "outputs": [
    {
     "data": {
      "text/plain": [
       "27007"
      ]
     },
     "execution_count": 3,
     "metadata": {},
     "output_type": "execute_result"
    }
   ],
   "source": [
    "Y_train = np.copy(data['steering'])  \n",
    "len(Y_train)"
   ]
  },
  {
   "cell_type": "code",
   "execution_count": 4,
   "metadata": {
    "collapsed": false
   },
   "outputs": [
    {
     "data": {
      "text/plain": [
       "27007"
      ]
     },
     "execution_count": 4,
     "metadata": {},
     "output_type": "execute_result"
    }
   ],
   "source": [
    "X_train = np.copy(data['center_images']+':'+data['left_images']+':'+data['right_images'])\n",
    "len(X_train)"
   ]
  },
  {
   "cell_type": "code",
   "execution_count": 5,
   "metadata": {
    "collapsed": false
   },
   "outputs": [],
   "source": [
    "X_train = np.copy(data['center_images']+':'+data['left_images']+':'+data['right_images'])\n",
    "Y_train = np.copy(data['steering'])  "
   ]
  },
  {
   "cell_type": "code",
   "execution_count": 6,
   "metadata": {
    "collapsed": false
   },
   "outputs": [
    {
     "data": {
      "text/plain": [
       "27007"
      ]
     },
     "execution_count": 6,
     "metadata": {},
     "output_type": "execute_result"
    }
   ],
   "source": [
    "len(X_train)"
   ]
  },
  {
   "cell_type": "code",
   "execution_count": 7,
   "metadata": {
    "collapsed": false
   },
   "outputs": [
    {
     "data": {
      "text/plain": [
       "21605"
      ]
     },
     "execution_count": 7,
     "metadata": {},
     "output_type": "execute_result"
    }
   ],
   "source": [
    "X_train, X_validation, Y_train, Y_validation = train_test_split(\n",
    "            X_train,\n",
    "            Y_train,\n",
    "            test_size=0.2,\n",
    "            random_state=0)\n",
    "len(X_train)"
   ]
  },
  {
   "cell_type": "code",
   "execution_count": 8,
   "metadata": {
    "collapsed": true
   },
   "outputs": [],
   "source": [
    "img_rows = 40\n",
    "img_cols = 80\n",
    "ch = 3"
   ]
  },
  {
   "cell_type": "code",
   "execution_count": 9,
   "metadata": {
    "collapsed": false
   },
   "outputs": [
    {
     "data": {
      "text/plain": [
       "5402"
      ]
     },
     "execution_count": 9,
     "metadata": {},
     "output_type": "execute_result"
    }
   ],
   "source": [
    "len(X_validation)"
   ]
  },
  {
   "cell_type": "code",
   "execution_count": 10,
   "metadata": {
    "collapsed": false
   },
   "outputs": [],
   "source": [
    "def load_image(imagepath):\n",
    "    oriimage = cv2.imread(imagepath, 1)\n",
    "    # do any preprocessing... resize, reshape, etc. here...\n",
    "    newx,newy = int(oriimage.shape[1]/4),int(oriimage.shape[0]/4) #new size (w,h)\n",
    "    newimage = cv2.resize(oriimage,(newx,newy))\n",
    "    return newimage"
   ]
  },
  {
   "cell_type": "code",
   "execution_count": 11,
   "metadata": {
    "collapsed": false
   },
   "outputs": [],
   "source": [
    "counter = 0\n",
    "batch_size = 32\n",
    "nb_epoch = 2\n",
    "\n",
    "train_images = np.zeros((32,40,80,3))\n",
    "train_steering = np.zeros(32)\n",
    "validation_images = np.zeros((8,40,80,3))\n",
    "validation_steering = np.zeros(8)\n",
    "\n",
    "#Change to float32, so it can be used in model.fit_generator\n",
    "#train_images = train_images.astype(np.float32)\n",
    "#train_steering = train_steering.astype(np.float32)"
   ]
  },
  {
   "cell_type": "code",
   "execution_count": 12,
   "metadata": {
    "collapsed": false
   },
   "outputs": [],
   "source": [
    "\"\"\"\n",
    "Steering angle prediction model\n",
    "\"\"\"\n",
    "import os\n",
    "import argparse\n",
    "import json\n",
    "from keras.models import Sequential\n",
    "from keras.layers import Dense, Dropout, Flatten, Lambda, ELU\n",
    "from keras.layers.convolutional import Convolution2D\n",
    "\n",
    "\n",
    "\n",
    " "
   ]
  },
  {
   "cell_type": "code",
   "execution_count": 13,
   "metadata": {
    "collapsed": false
   },
   "outputs": [],
   "source": [
    "# our image generator.\n",
    "def batchgen(X, Y):\n",
    "    while 1:\n",
    "        for i in range(len(X)):\n",
    "            y = Y[i]\n",
    "            if y < -0.01:\n",
    "                chance = random.random()\n",
    "                if chance > 0.75:\n",
    "                    imagepath = X[i].split(':')[1]\n",
    "                    y *= 3.0\n",
    "                else:\n",
    "                    if chance > 0.5:\n",
    "                        imagepath = X[i].split(':')[1]\n",
    "                        y *= 2.0\n",
    "                    else:\n",
    "                        if chance > 0.25:\n",
    "                            imagepath = X[i].split(':')[0]\n",
    "                            y *= 1.5\n",
    "                        else:\n",
    "                            imagepath = X[i].split(':')[0]\n",
    "            else:\n",
    "                if y > 0.01:\n",
    "                    chance = random.random()\n",
    "                    if chance > 0.75:\n",
    "                        imagepath = X[i].split(':')[2]\n",
    "                        y *= 3.0\n",
    "                    else:\n",
    "                        if chance > 0.5:\n",
    "                            imagepath = X[i].split(':')[2]\n",
    "                            y *= 2.0\n",
    "                        else:\n",
    "                            if chance > 0.25:\n",
    "                                imagepath = X[i].split(':')[0]\n",
    "                                y *= 1.5\n",
    "                            else:\n",
    "                                imagepath = X[i].split(':')[0]\n",
    "                else:\n",
    "                    imagepath = X[i].split(':')[0]\n",
    "            #print(imagepath)\n",
    "            image = load_image(imagepath)\n",
    "            y = np.array([[y]])\n",
    "            image = image.reshape(1, img_rows, img_cols, ch)\n",
    "            yield image, y"
   ]
  },
  {
   "cell_type": "code",
   "execution_count": 14,
   "metadata": {
    "collapsed": false
   },
   "outputs": [],
   "source": [
    "def get_model(time_len=1):\n",
    "    row, col, ch = 40, 80, 3  # camera format\n",
    "\n",
    "    model = Sequential()\n",
    "    model.add(Lambda(lambda x: x/127.5 - 1.,\n",
    "            input_shape=(row, col, ch),\n",
    "            output_shape=(row, col, ch)))\n",
    "    \n",
    "    model.add(Convolution2D(16, 8, 8, subsample=(4, 4), border_mode=\"same\"))\n",
    "    model.add(ELU())\n",
    "    model.add(Convolution2D(32, 5, 5, subsample=(2, 2), border_mode=\"same\"))\n",
    "    model.add(ELU())\n",
    "    model.add(Convolution2D(64, 5, 5, subsample=(2, 2), border_mode=\"same\"))\n",
    "    model.add(Flatten())\n",
    "    model.add(Dropout(.2))\n",
    "    model.add(ELU())\n",
    "    model.add(Dense(512))\n",
    "    model.add(Dropout(.5))\n",
    "    model.add(ELU())\n",
    "    model.add(Dense(1))\n",
    "    \n",
    "  \n",
    "    model.compile(optimizer=Adam(), loss='mse')\n",
    "\n",
    "    return model"
   ]
  },
  {
   "cell_type": "code",
   "execution_count": null,
   "metadata": {
    "collapsed": false
   },
   "outputs": [],
   "source": [
    "model = get_model()"
   ]
  },
  {
   "cell_type": "code",
   "execution_count": null,
   "metadata": {
    "collapsed": true
   },
   "outputs": [],
   "source": []
  },
  {
   "cell_type": "code",
   "execution_count": null,
   "metadata": {
    "collapsed": false,
    "scrolled": true
   },
   "outputs": [
    {
     "name": "stdout",
     "output_type": "stream",
     "text": [
      "Epoch 1/8\n",
      "21605/21605 [==============================] - 257s - loss: 0.4199 - val_loss: 0.0873\n",
      "Epoch 2/8\n",
      "21605/21605 [==============================] - 397s - loss: 0.4810 - val_loss: 0.9823\n",
      "Epoch 3/8\n",
      "21605/21605 [==============================] - 657s - loss: 0.4032 - val_loss: 0.2192\n",
      "Epoch 4/8\n",
      " 8421/21605 [==========>...................] - ETA: 405s - loss: 0.3838"
     ]
    }
   ],
   "source": [
    "history = model.fit_generator(batchgen(X_train, Y_train), samples_per_epoch = 21605, nb_epoch = 8,\n",
    "                    verbose=1, callbacks=[], validation_data=batchgen(X_validation, Y_validation),\n",
    "                    nb_val_samples=8, class_weight=None,\n",
    "                     pickle_safe=False)"
   ]
  },
  {
   "cell_type": "code",
   "execution_count": null,
   "metadata": {
    "collapsed": false
   },
   "outputs": [],
   "source": [
    "print(\"Saving model weights and configuration file.\")\n",
    "\n",
    "if not os.path.exists(\"./outputs/steering_model\"):\n",
    "        os.makedirs(\"./outputs/steering_model\")\n",
    "\n",
    "model.save_weights(\"./outputs/steering_model/steering_angle.keras\", True)\n",
    "with open('./outputs/steering_model/steering_angle.json', 'w') as outfile:\n",
    "    json.dump(model.to_json(), outfile)"
   ]
  },
  {
   "cell_type": "code",
   "execution_count": null,
   "metadata": {
    "collapsed": true
   },
   "outputs": [],
   "source": []
  },
  {
   "cell_type": "code",
   "execution_count": null,
   "metadata": {
    "collapsed": true
   },
   "outputs": [],
   "source": []
  },
  {
   "cell_type": "code",
   "execution_count": null,
   "metadata": {
    "collapsed": true
   },
   "outputs": [],
   "source": []
  }
 ],
 "metadata": {
  "anaconda-cloud": {},
  "kernelspec": {
   "display_name": "Python [conda env:keras]",
   "language": "python",
   "name": "conda-env-keras-py"
  },
  "language_info": {
   "codemirror_mode": {
    "name": "ipython",
    "version": 3
   },
   "file_extension": ".py",
   "mimetype": "text/x-python",
   "name": "python",
   "nbconvert_exporter": "python",
   "pygments_lexer": "ipython3",
   "version": "3.5.2"
  }
 },
 "nbformat": 4,
 "nbformat_minor": 1
}
